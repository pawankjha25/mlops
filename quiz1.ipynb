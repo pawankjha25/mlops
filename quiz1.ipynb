{
 "cells": [
  {
   "cell_type": "code",
   "execution_count": 45,
   "metadata": {},
   "outputs": [],
   "source": [
    "# Standard scientific Python imports\n",
    "import matplotlib.pyplot as plt\n",
    "\n",
    "# Import datasets, classifiers and performance metrics\n",
    "from sklearn import datasets, svm, metrics\n",
    "from sklearn.model_selection import train_test_split\n",
    "from skimage.transform import rescale, resize, downscale_local_mean"
   ]
  },
  {
   "cell_type": "code",
   "execution_count": 24,
   "metadata": {},
   "outputs": [
    {
     "name": "stdout",
     "output_type": "stream",
     "text": [
      "Total rows/images  in the dataset :1797\n",
      "Total rows and columns in the dataset :(1797, 64)\n",
      "Total rows and columns(with each column size) in the dataset :(1797, 8, 8)\n",
      "Shape of each image in the the dataset :(8, 8)\n"
     ]
    }
   ],
   "source": [
    "digits = datasets.load_digits()\n",
    "print(f\"Total rows/images  in the dataset :{len(digits.data)}\")\n",
    "print(f\"Total rows and columns in the dataset :{digits.data.shape}\")\n",
    "print(f\"Total rows and columns(with each column size) in the dataset :{digits.images.shape}\")\n",
    "print(f\"Shape of each image in the the dataset :{digits.images[-1].shape}\")"
   ]
  },
  {
   "cell_type": "code",
   "execution_count": 49,
   "metadata": {},
   "outputs": [
    {
     "name": "stdout",
     "output_type": "stream",
     "text": [
      "Shape of each scaled-1(0.5 times) image in the the dataset :(4, 4)\n",
      "Shape of each scaled-2(1.5 times) image in the the dataset-2 :(12, 12)\n",
      "Shape of scaled image-3(2.5 times) in the the dataset-3 :(20, 20)\n"
     ]
    }
   ],
   "source": [
    "image_rescaled_1 = rescale(digits.images, 0.5, anti_aliasing=False)\n",
    "image_rescaled_2 = rescale(digits.images, 1.5, anti_aliasing=False)\n",
    "image_rescaled_3 = rescale(digits.images, 2.5, anti_aliasing=False)\n",
    "print(f\"Shape of each scaled-1(0.5 times) image in the the dataset :{image_rescaled_1[-1].shape}\")\n",
    "print(f\"Shape of each scaled-2(1.5 times) image in the the dataset-2 :{image_rescaled_2[-1].shape}\")\n",
    "print(f\"Shape of scaled image-3(2.5 times) in the the dataset-3 :{image_rescaled_3[-1].shape}\")"
   ]
  },
  {
   "cell_type": "code",
   "execution_count": 38,
   "metadata": {},
   "outputs": [
    {
     "name": "stdout",
     "output_type": "stream",
     "text": [
      "print Original image\n"
     ]
    },
    {
     "data": {
      "image/png": "[encoded data removed]",
      "text/plain": [
       "<Figure size 720x216 with 4 Axes>"
      ]
     },
     "metadata": {
      "needs_background": "light"
     },
     "output_type": "display_data"
    }
   ],
   "source": [
    "print(\"print Original image\")\n",
    "_, axes = plt.subplots(nrows=1, ncols=4, figsize=(10, 3))\n",
    "for ax, image, label in zip(axes, digits.images, digits.target):\n",
    "    ax.set_axis_off()\n",
    "    ax.imshow(image, cmap=plt.cm.gray_r, interpolation='nearest')\n",
    "    ax.set_title('Training: %i' % label)"
   ]
  },
  {
   "cell_type": "code",
   "execution_count": 34,
   "metadata": {},
   "outputs": [
    {
     "data": {
      "image/png": "[encoded data removed]",
      "text/plain": [
       "<Figure size 720x216 with 4 Axes>"
      ]
     },
     "metadata": {
      "needs_background": "light"
     },
     "output_type": "display_data"
    }
   ],
   "source": [
    "print(\"print scaled scaled-1(0.5 times)\")\n",
    "_, axes = plt.subplots(nrows=1, ncols=4, figsize=(10, 3))\n",
    "for ax, image, label in zip(axes, image_rescaled_1, digits.target):\n",
    "    ax.set_axis_off()\n",
    "    ax.imshow(image, cmap=plt.cm.gray_r, interpolation='nearest')\n",
    "    ax.set_title('Training: %i' % label)"
   ]
  },
  {
   "cell_type": "code",
   "execution_count": 36,
   "metadata": {},
   "outputs": [
    {
     "name": "stdout",
     "output_type": "stream",
     "text": [
      "print scaled scaled-1(1.5 times)\n"
     ]
    },
    {
     "data": {
      "image/png": "[encoded data removed]",
      "text/plain": [
       "<Figure size 720x216 with 4 Axes>"
      ]
     },
     "metadata": {
      "needs_background": "light"
     },
     "output_type": "display_data"
    }
   ],
   "source": [
    "print(\"print scaled scaled-1(1.5 times)\")\n",
    "_, axes = plt.subplots(nrows=1, ncols=4, figsize=(10, 3))\n",
    "for ax, image, label in zip(axes, image_rescaled_2, digits.target):\n",
    "    ax.set_axis_off()\n",
    "    ax.imshow(image, cmap=plt.cm.gray_r, interpolation='nearest')\n",
    "    ax.set_title('Training: %i' % label)"
   ]
  },
  {
   "cell_type": "code",
   "execution_count": 37,
   "metadata": {},
   "outputs": [
    {
     "name": "stdout",
     "output_type": "stream",
     "text": [
      "print scaled scaled-1(2.5 times)\n"
     ]
    },
    {
     "data": {
      "image/png": "[encoded data removed]",
      "text/plain": [
       "<Figure size 720x216 with 4 Axes>"
      ]
     },
     "metadata": {
      "needs_background": "light"
     },
     "output_type": "display_data"
    }
   ],
   "source": [
    "print(\"print scaled scaled-1(2.5 times)\")\n",
    "_, axes = plt.subplots(nrows=1, ncols=4, figsize=(10, 3))\n",
    "for ax, image, label in zip(axes, image_rescaled_3, digits.target):\n",
    "    ax.set_axis_off()\n",
    "    ax.imshow(image, cmap=plt.cm.gray_r, interpolation='nearest')\n",
    "    ax.set_title('Training: %i' % label)"
   ]
  },
  {
   "cell_type": "code",
   "execution_count": 68,
   "metadata": {},
   "outputs": [
    {
     "name": "stdout",
     "output_type": "stream",
     "text": [
      "Classification report for classifier SVC(gamma=0.001):\n",
      "              precision    recall  f1-score   support\n",
      "\n",
      "           0       0.10      0.44      0.17        43\n",
      "           1       0.09      0.04      0.06        46\n",
      "           2       0.04      0.09      0.05        45\n",
      "           3       0.08      0.18      0.11        45\n",
      "           4       0.00      0.00      0.00        47\n",
      "           5       0.00      0.00      0.00        45\n",
      "           6       0.00      0.00      0.00        47\n",
      "           7       0.00      0.00      0.00        45\n",
      "           8       0.00      0.00      0.00        42\n",
      "           9       0.08      0.07      0.07        44\n",
      "\n",
      "    accuracy                           0.08       449\n",
      "   macro avg       0.04      0.08      0.05       449\n",
      "weighted avg       0.04      0.08      0.05       449\n",
      "\n",
      "\n"
     ]
    },
    {
     "name": "stderr",
     "output_type": "stream",
     "text": [
      "/Users/ctsuser1/opt/anaconda3/lib/python3.8/site-packages/sklearn/metrics/_classification.py:1221: UndefinedMetricWarning: Precision and F-score are ill-defined and being set to 0.0 in labels with no predicted samples. Use `zero_division` parameter to control this behavior.\n",
      "  _warn_prf(average, modifier, msg_start, len(result))\n"
     ]
    }
   ],
   "source": [
    "# flatten the images\n",
    "n_samples = len(image_rescaled_1)\n",
    "data = image_rescaled_1.reshape((n_samples, -1))\n",
    "\n",
    "# Create a classifier: a support vector classifier\n",
    "clf = svm.SVC(gamma=0.001)\n",
    "\n",
    "# Split data into 50% train and 50% test subsets\n",
    "X_train, X_test, y_train, y_test = train_test_split(\n",
    "    data, digits.target[0:898], test_size=0.5, shuffle=False)\n",
    "\n",
    "# Learn the digits on the train subset\n",
    "clf.fit(X_train, y_train)\n",
    "\n",
    "# Predict the value of the digit on the test subset\n",
    "predicted = clf.predict(X_test)\n",
    "\n",
    "    \n",
    "print(f\"Classification report for classifier {clf}:\\n\"\n",
    "      f\"{metrics.classification_report(y_test, predicted)}\\n\")"
   ]
  },
  {
   "cell_type": "code",
   "execution_count": 79,
   "metadata": {},
   "outputs": [
    {
     "name": "stdout",
     "output_type": "stream",
     "text": [
      "Classification report for classifier SVC(gamma=0.001):\n",
      "              precision    recall  f1-score   support\n",
      "\n",
      "           0       0.00      0.00      0.00        71\n",
      "           1       0.00      0.00      0.00        73\n",
      "           2       0.00      0.00      0.00        75\n",
      "           3       0.00      0.00      0.00        75\n",
      "           4       0.00      0.00      0.00        72\n",
      "           5       0.10      0.92      0.17        71\n",
      "           6       0.00      0.00      0.00        73\n",
      "           7       0.00      0.00      0.00        72\n",
      "           8       0.09      0.04      0.06        68\n",
      "           9       0.00      0.00      0.00        69\n",
      "\n",
      "    accuracy                           0.09       719\n",
      "   macro avg       0.02      0.10      0.02       719\n",
      "weighted avg       0.02      0.09      0.02       719\n",
      "\n",
      "\n"
     ]
    },
    {
     "name": "stderr",
     "output_type": "stream",
     "text": [
      "/Users/ctsuser1/opt/anaconda3/lib/python3.8/site-packages/sklearn/metrics/_classification.py:1221: UndefinedMetricWarning: Precision and F-score are ill-defined and being set to 0.0 in labels with no predicted samples. Use `zero_division` parameter to control this behavior.\n",
      "  _warn_prf(average, modifier, msg_start, len(result))\n"
     ]
    }
   ],
   "source": [
    "# flatten the images\n",
    "n_samples = len(image_rescaled_1)\n",
    "data = image_rescaled_1.reshape((n_samples, -1))\n",
    "\n",
    "# Create a classifier: a support vector classifier\n",
    "clf = svm.SVC(gamma=0.001)\n",
    "\n",
    "\n",
    "X_train, X_test, y_train, y_test = train_test_split(\n",
    "    data, digits.target[0:898], test_size=0.8, shuffle=False)\n",
    "\n",
    "# Learn the digits on the train subset\n",
    "clf.fit(X_train, y_train)\n",
    "\n",
    "# Predict the value of the digit on the test subset\n",
    "predicted = clf.predict(X_test)\n",
    "print(f\"Classification report for classifier {clf}:\\n\"\n",
    "      f\"{metrics.classification_report(y_test, predicted)}\\n\")"
   ]
  },
  {
   "cell_type": "code",
   "execution_count": 70,
   "metadata": {},
   "outputs": [
    {
     "name": "stdout",
     "output_type": "stream",
     "text": [
      "Classification report for classifier SVC(gamma=0.001):\n",
      "              precision    recall  f1-score   support\n",
      "\n",
      "           0       0.10      1.00      0.18        79\n",
      "           1       0.00      0.00      0.00        82\n",
      "           2       0.00      0.00      0.00        81\n",
      "           3       0.00      0.00      0.00        83\n",
      "           4       0.00      0.00      0.00        82\n",
      "           5       0.00      0.00      0.00        82\n",
      "           6       0.00      0.00      0.00        80\n",
      "           7       0.00      0.00      0.00        81\n",
      "           8       0.00      0.00      0.00        79\n",
      "           9       0.00      0.00      0.00        80\n",
      "\n",
      "    accuracy                           0.10       809\n",
      "   macro avg       0.01      0.10      0.02       809\n",
      "weighted avg       0.01      0.10      0.02       809\n",
      "\n",
      "\n"
     ]
    },
    {
     "name": "stderr",
     "output_type": "stream",
     "text": [
      "/Users/ctsuser1/opt/anaconda3/lib/python3.8/site-packages/sklearn/metrics/_classification.py:1221: UndefinedMetricWarning: Precision and F-score are ill-defined and being set to 0.0 in labels with no predicted samples. Use `zero_division` parameter to control this behavior.\n",
      "  _warn_prf(average, modifier, msg_start, len(result))\n"
     ]
    }
   ],
   "source": [
    "# flatten the images\n",
    "n_samples = len(image_rescaled_1)\n",
    "data = image_rescaled_1.reshape((n_samples, -1))\n",
    "\n",
    "# Create a classifier: a support vector classifier\n",
    "clf = svm.SVC(gamma=0.001)\n",
    "\n",
    "\n",
    "X_train, X_test, y_train, y_test = train_test_split(\n",
    "    data, digits.target[0:898], test_size=0.9, shuffle=False)\n",
    "\n",
    "# Learn the digits on the train subset\n",
    "clf.fit(X_train, y_train)\n",
    "\n",
    "# Predict the value of the digit on the test subset\n",
    "predicted = clf.predict(X_test)\n",
    "print(f\"Classification report for classifier {clf}:\\n\"\n",
    "      f\"{metrics.classification_report(y_test, predicted)}\\n\")"
   ]
  },
  {
   "cell_type": "code",
   "execution_count": 72,
   "metadata": {},
   "outputs": [
    {
     "name": "stdout",
     "output_type": "stream",
     "text": [
      "Classification report for classifier SVC(gamma=0.001):\n",
      "              precision    recall  f1-score   support\n",
      "\n",
      "           0       0.05      0.06      0.06        88\n",
      "           1       0.12      0.13      0.12        91\n",
      "           2       0.16      0.19      0.17        86\n",
      "           3       0.14      0.19      0.16        91\n",
      "           4       0.11      0.10      0.10        92\n",
      "           5       0.14      0.18      0.16        91\n",
      "           6       0.09      0.08      0.08        91\n",
      "           7       0.11      0.12      0.12        89\n",
      "           8       0.16      0.08      0.11        88\n",
      "           9       0.12      0.09      0.10        92\n",
      "\n",
      "    accuracy                           0.12       899\n",
      "   macro avg       0.12      0.12      0.12       899\n",
      "weighted avg       0.12      0.12      0.12       899\n",
      "\n",
      "\n"
     ]
    }
   ],
   "source": [
    "# flatten the images\n",
    "n_samples = len(image_rescaled_2)\n",
    "data = image_rescaled_2.reshape((n_samples, -1))[0:1797]\n",
    "\n",
    "# Create a classifier: a support vector classifier\n",
    "clf = svm.SVC(gamma=0.001)\n",
    "\n",
    "\n",
    "X_train, X_test, y_train, y_test = train_test_split(\n",
    "    data, digits.target, test_size=0.5, shuffle=False)\n",
    "\n",
    "# Learn the digits on the train subset\n",
    "clf.fit(X_train, y_train)\n",
    "\n",
    "# Predict the value of the digit on the test subset\n",
    "predicted = clf.predict(X_test)\n",
    "print(f\"Classification report for classifier {clf}:\\n\"\n",
    "      f\"{metrics.classification_report(y_test, predicted)}\\n\")"
   ]
  },
  {
   "cell_type": "code",
   "execution_count": 73,
   "metadata": {},
   "outputs": [
    {
     "name": "stdout",
     "output_type": "stream",
     "text": [
      "Classification report for classifier SVC(gamma=0.001):\n",
      "              precision    recall  f1-score   support\n",
      "\n",
      "           0       0.08      0.24      0.12       140\n",
      "           1       0.07      0.07      0.07       144\n",
      "           2       0.08      0.06      0.07       141\n",
      "           3       0.10      0.13      0.12       145\n",
      "           4       0.19      0.09      0.12       147\n",
      "           5       0.13      0.15      0.14       146\n",
      "           6       0.09      0.10      0.10       145\n",
      "           7       0.10      0.05      0.07       144\n",
      "           8       0.07      0.02      0.03       140\n",
      "           9       0.11      0.08      0.09       146\n",
      "\n",
      "    accuracy                           0.10      1438\n",
      "   macro avg       0.10      0.10      0.09      1438\n",
      "weighted avg       0.10      0.10      0.09      1438\n",
      "\n",
      "\n"
     ]
    }
   ],
   "source": [
    "# flatten the images\n",
    "n_samples = len(image_rescaled_2)\n",
    "data = image_rescaled_2.reshape((n_samples, -1))[0:1797]\n",
    "\n",
    "# Create a classifier: a support vector classifier\n",
    "clf = svm.SVC(gamma=0.001)\n",
    "\n",
    "# Split data into 80% train and 20% test subsets\n",
    "X_train, X_test, y_train, y_test = train_test_split(\n",
    "    data, digits.target, test_size=0.8, shuffle=False)\n",
    "\n",
    "# Learn the digits on the train subset\n",
    "clf.fit(X_train, y_train)\n",
    "\n",
    "# Predict the value of the digit on the test subset\n",
    "predicted = clf.predict(X_test)\n",
    "print(f\"Classification report for classifier {clf}:\\n\"\n",
    "      f\"{metrics.classification_report(y_test, predicted)}\\n\")"
   ]
  },
  {
   "cell_type": "code",
   "execution_count": 74,
   "metadata": {},
   "outputs": [
    {
     "name": "stdout",
     "output_type": "stream",
     "text": [
      "Classification report for classifier SVC(gamma=0.001):\n",
      "              precision    recall  f1-score   support\n",
      "\n",
      "           0       0.08      0.23      0.11       159\n",
      "           1       0.05      0.03      0.04       164\n",
      "           2       0.03      0.01      0.01       161\n",
      "           3       0.10      0.07      0.08       166\n",
      "           4       0.09      0.07      0.08       164\n",
      "           5       0.09      0.19      0.12       162\n",
      "           6       0.09      0.04      0.06       164\n",
      "           7       0.10      0.06      0.07       161\n",
      "           8       0.08      0.11      0.09       156\n",
      "           9       0.04      0.01      0.01       161\n",
      "\n",
      "    accuracy                           0.08      1618\n",
      "   macro avg       0.07      0.08      0.07      1618\n",
      "weighted avg       0.07      0.08      0.07      1618\n",
      "\n",
      "\n"
     ]
    }
   ],
   "source": [
    "# flatten the images\n",
    "n_samples = len(image_rescaled_2)\n",
    "data = image_rescaled_2.reshape((n_samples, -1))[0:1797]\n",
    "\n",
    "# Create a classifier: a support vector classifier\n",
    "clf = svm.SVC(gamma=0.001)\n",
    "\n",
    "# Split data into 80% train and 20% test subsets\n",
    "X_train, X_test, y_train, y_test = train_test_split(\n",
    "    data, digits.target, test_size=0.9, shuffle=False)\n",
    "\n",
    "# Learn the digits on the train subset\n",
    "clf.fit(X_train, y_train)\n",
    "\n",
    "# Predict the value of the digit on the test subset\n",
    "predicted = clf.predict(X_test)\n",
    "print(f\"Classification report for classifier {clf}:\\n\"\n",
    "      f\"{metrics.classification_report(y_test, predicted)}\\n\")"
   ]
  },
  {
   "cell_type": "code",
   "execution_count": 83,
   "metadata": {},
   "outputs": [
    {
     "name": "stdout",
     "output_type": "stream",
     "text": [
      "Classification report for classifier SVC(gamma=0.001):\n",
      "              precision    recall  f1-score   support\n",
      "\n",
      "           0       0.09      0.10      0.10        88\n",
      "           1       0.10      0.19      0.13        91\n",
      "           2       0.09      0.09      0.09        86\n",
      "           3       0.14      0.09      0.11        91\n",
      "           4       0.09      0.07      0.07        92\n",
      "           5       0.21      0.15      0.18        91\n",
      "           6       0.20      0.14      0.17        91\n",
      "           7       0.10      0.20      0.13        89\n",
      "           8       0.04      0.01      0.02        88\n",
      "           9       0.06      0.05      0.06        92\n",
      "\n",
      "    accuracy                           0.11       899\n",
      "   macro avg       0.11      0.11      0.11       899\n",
      "weighted avg       0.11      0.11      0.11       899\n",
      "\n",
      "\n"
     ]
    }
   ],
   "source": [
    "# flatten the images\n",
    "n_samples = len(image_rescaled_3)\n",
    "data = image_rescaled_3.reshape((n_samples, -1))[0:1797]\n",
    "\n",
    "# Create a classifier: a support vector classifier\n",
    "clf = svm.SVC(gamma=0.001)\n",
    "\n",
    "# Split data into 50% train and 50% test subsets\n",
    "X_train, X_test, y_train, y_test = train_test_split(\n",
    "    data, digits.target, test_size=0.5, shuffle=False)\n",
    "\n",
    "# Learn the digits on the train subset\n",
    "clf.fit(X_train, y_train)\n",
    "\n",
    "# Predict the value of the digit on the test subset\n",
    "predicted = clf.predict(X_test)\n",
    "print(f\"Classification report for classifier {clf}:\\n\"\n",
    "      f\"{metrics.classification_report(y_test, predicted)}\\n\")"
   ]
  },
  {
   "cell_type": "code",
   "execution_count": 87,
   "metadata": {},
   "outputs": [
    {
     "name": "stdout",
     "output_type": "stream",
     "text": [
      "Classification report for classifier SVC(gamma=0.001):\n",
      "              precision    recall  f1-score   support\n",
      "\n",
      "           0       0.08      0.05      0.06       140\n",
      "           1       0.10      0.51      0.16       144\n",
      "           2       0.06      0.04      0.05       141\n",
      "           3       0.08      0.08      0.08       145\n",
      "           4       0.07      0.03      0.04       147\n",
      "           5       0.14      0.04      0.06       146\n",
      "           6       0.06      0.01      0.01       145\n",
      "           7       0.08      0.06      0.07       144\n",
      "           8       0.12      0.07      0.09       140\n",
      "           9       0.02      0.01      0.01       146\n",
      "\n",
      "    accuracy                           0.09      1438\n",
      "   macro avg       0.08      0.09      0.06      1438\n",
      "weighted avg       0.08      0.09      0.06      1438\n",
      "\n",
      "\n"
     ]
    }
   ],
   "source": [
    "# flatten the images\n",
    "n_samples = len(image_rescaled_3)\n",
    "data = image_rescaled_3.reshape((n_samples, -1))[0:1797]\n",
    "\n",
    "# Create a classifier: a support vector classifier\n",
    "clf = svm.SVC(gamma=0.001)\n",
    "\n",
    "\n",
    "X_train, X_test, y_train, y_test = train_test_split(\n",
    "    data, digits.target, test_size=0.8, shuffle=False)\n",
    "\n",
    "# Learn the digits on the train subset\n",
    "clf.fit(X_train, y_train)\n",
    "\n",
    "# Predict the value of the digit on the test subset\n",
    "predicted = clf.predict(X_test)\n",
    "\n",
    "    \n",
    "print(f\"Classification report for classifier {clf}:\\n\"\n",
    "      f\"{metrics.classification_report(y_test, predicted)}\\n\")"
   ]
  },
  {
   "cell_type": "code",
   "execution_count": 88,
   "metadata": {},
   "outputs": [
    {
     "name": "stdout",
     "output_type": "stream",
     "text": [
      "Classification report for classifier SVC(gamma=0.001):\n",
      "              precision    recall  f1-score   support\n",
      "\n",
      "           0       0.10      0.03      0.05       159\n",
      "           1       0.10      0.26      0.15       164\n",
      "           2       0.09      0.02      0.04       161\n",
      "           3       0.18      0.07      0.10       166\n",
      "           4       0.04      0.01      0.02       164\n",
      "           5       0.11      0.20      0.14       162\n",
      "           6       0.00      0.00      0.00       164\n",
      "           7       0.08      0.04      0.05       161\n",
      "           8       0.07      0.04      0.05       156\n",
      "           9       0.10      0.31      0.15       161\n",
      "\n",
      "    accuracy                           0.10      1618\n",
      "   macro avg       0.09      0.10      0.07      1618\n",
      "weighted avg       0.09      0.10      0.07      1618\n",
      "\n",
      "\n"
     ]
    }
   ],
   "source": [
    "# flatten the images\n",
    "n_samples = len(image_rescaled_3)\n",
    "data = image_rescaled_3.reshape((n_samples, -1))[0:1797]\n",
    "\n",
    "# Create a classifier: a support vector classifier\n",
    "clf = svm.SVC(gamma=0.001)\n",
    "\n",
    "\n",
    "X_train, X_test, y_train, y_test = train_test_split(\n",
    "    data, digits.target, test_size=0.9, shuffle=False)\n",
    "\n",
    "# Learn the digits on the train subset\n",
    "clf.fit(X_train, y_train)\n",
    "\n",
    "# Predict the value of the digit on the test subset\n",
    "predicted = clf.predict(X_test)\n",
    "\n",
    "    \n",
    "print(f\"Classification report for classifier {clf}:\\n\"\n",
    "      f\"{metrics.classification_report(y_test, predicted)}\\n\")"
   ]
  },
  {
   "cell_type": "code",
   "execution_count": null,
   "metadata": {},
   "outputs": [],
   "source": []
  },
  {
   "cell_type": "code",
   "execution_count": null,
   "metadata": {},
   "outputs": [],
   "source": []
  },
  {
   "cell_type": "code",
   "execution_count": null,
   "metadata": {},
   "outputs": [],
   "source": []
  },
  {
   "cell_type": "code",
   "execution_count": null,
   "metadata": {},
   "outputs": [],
   "source": []
  }
 ],
 "metadata": {
  "kernelspec": {
   "display_name": "Python 3",
   "language": "python",
   "name": "python3"
  },
  "language_info": {
   "codemirror_mode": {
    "name": "ipython",
    "version": 3
   },
   "file_extension": ".py",
   "mimetype": "text/x-python",
   "name": "python",
   "nbconvert_exporter": "python",
   "pygments_lexer": "ipython3",
   "version": "3.8.3"
  }
 },
 "nbformat": 4,
 "nbformat_minor": 4
}
