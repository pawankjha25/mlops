{
 "cells": [
  {
   "cell_type": "code",
   "execution_count": 6,
   "metadata": {},
   "outputs": [],
   "source": [
    "%matplotlib inline\n",
    "import matplotlib.pyplot as plt\n",
    "from sklearn import datasets, svm, metrics\n",
    "from sklearn.model_selection import train_test_split\n",
    "\n",
    "\n"
   ]
  },
  {
   "cell_type": "code",
   "execution_count": 26,
   "metadata": {},
   "outputs": [],
   "source": [
    "\n",
    "def run_classifier(hyperparameter,run):\n",
    "    mt_map={}\n",
    "    digits = datasets.load_digits()\n",
    "    n_samples = len(digits.images)\n",
    "    data = digits.images.reshape((n_samples, -1))\n",
    "    clf = svm.SVC(gamma=hyperparameter)\n",
    "    X_train, X_test, y_train, y_test = train_test_split(\n",
    "        data, digits.target, test_size=0.30, shuffle=False\n",
    "    )\n",
    "    X_test, X_dev, y_test, y_dev = train_test_split(\n",
    "        X_test, y_test, test_size=0.15, shuffle=False\n",
    "    )\n",
    "    clf.fit(X_train, y_train)\n",
    "    predicted_tr = clf.predict(X_train)\n",
    "    predicted_test = clf.predict(X_test)\n",
    "    predicted_dev = clf.predict(X_dev)\n",
    "    train_score=metrics.accuracy_score(y_train, predicted_tr)\n",
    "    test_score=metrics.accuracy_score(y_test, predicted_test)\n",
    "    dev_score=metrics.accuracy_score(y_dev, predicted_dev)\n",
    "    mt_map['train']=train_score\n",
    "    mt_map['test']=train_score\n",
    "    mt_map['dev']=train_score\n",
    "    mt_map['hyperparameter']=hyperparameter\n",
    "    mt_map['run_id']=run\n",
    "    return mt_map\n",
    "    \n",
    "    "
   ]
  },
  {
   "cell_type": "code",
   "execution_count": 29,
   "metadata": {
    "scrolled": true
   },
   "outputs": [
    {
     "data": {
      "text/plain": [
       "{0.01: {'train': 1.0,\n",
       "  'test': 1.0,\n",
       "  'dev': 1.0,\n",
       "  'hyperparameter': 0.01,\n",
       "  'run_id': 3},\n",
       " 0.001: {'train': 0.9992044550517104,\n",
       "  'test': 0.9992044550517104,\n",
       "  'dev': 0.9992044550517104,\n",
       "  'hyperparameter': 0.001,\n",
       "  'run_id': 3},\n",
       " 0.0001: {'train': 0.9856801909307876,\n",
       "  'test': 0.9856801909307876,\n",
       "  'dev': 0.9856801909307876,\n",
       "  'hyperparameter': 0.0001,\n",
       "  'run_id': 3}}"
      ]
     },
     "execution_count": 29,
     "metadata": {},
     "output_type": "execute_result"
    }
   ],
   "source": [
    "hyperparameters=[0.01, 0.001,0.0001]\n",
    "mt_maps={}\n",
    "mt_maps2={}\n",
    "for hp in hyperparameters:\n",
    "    for i in range(1,4):\n",
    "        mt_maps[i]=run_classifier(hp,i)\n",
    "    mt_maps2[hp]=mt_maps\n",
    "    \n",
    "        \n",
    "mt_maps2"
   ]
  },
  {
   "cell_type": "code",
   "execution_count": 25,
   "metadata": {},
   "outputs": [
    {
     "data": {
      "text/plain": [
       "{1: {'train': 0.9856801909307876,\n",
       "  'test': 0.9856801909307876,\n",
       "  'dev': 0.9856801909307876,\n",
       "  'hp': 0.0001,\n",
       "  'run': 1},\n",
       " 2: {'train': 0.9856801909307876,\n",
       "  'test': 0.9856801909307876,\n",
       "  'dev': 0.9856801909307876,\n",
       "  'hp': 0.0001,\n",
       "  'run': 2},\n",
       " 3: {'train': 0.9856801909307876,\n",
       "  'test': 0.9856801909307876,\n",
       "  'dev': 0.9856801909307876,\n",
       "  'hp': 0.0001,\n",
       "  'run': 3},\n",
       " 0.01: {'train': 1.0, 'test': 1.0, 'dev': 1.0, 'hp': 0.01, 'run': 3},\n",
       " 0.001: {'train': 0.9992044550517104,\n",
       "  'test': 0.9992044550517104,\n",
       "  'dev': 0.9992044550517104,\n",
       "  'hp': 0.001,\n",
       "  'run': 3},\n",
       " 0.0001: {'train': 0.9856801909307876,\n",
       "  'test': 0.9856801909307876,\n",
       "  'dev': 0.9856801909307876,\n",
       "  'hp': 0.0001,\n",
       "  'run': 3}}"
      ]
     },
     "execution_count": 25,
     "metadata": {},
     "output_type": "execute_result"
    }
   ],
   "source": [
    "mt_maps"
   ]
  },
  {
   "cell_type": "code",
   "execution_count": null,
   "metadata": {},
   "outputs": [],
   "source": []
  }
 ],
 "metadata": {
  "kernelspec": {
   "display_name": "Python 3",
   "language": "python",
   "name": "python3"
  },
  "language_info": {
   "codemirror_mode": {
    "name": "ipython",
    "version": 3
   },
   "file_extension": ".py",
   "mimetype": "text/x-python",
   "name": "python",
   "nbconvert_exporter": "python",
   "pygments_lexer": "ipython3",
   "version": "3.8.3"
  }
 },
 "nbformat": 4,
 "nbformat_minor": 4
}
